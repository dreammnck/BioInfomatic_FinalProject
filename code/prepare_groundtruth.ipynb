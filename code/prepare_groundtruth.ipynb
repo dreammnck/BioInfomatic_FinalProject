{
  "nbformat": 4,
  "nbformat_minor": 0,
  "metadata": {
    "colab": {
      "name": "DataPreparation_DrugRepurposing.ipynb",
      "provenance": []
    },
    "kernelspec": {
      "name": "python3",
      "display_name": "Python 3"
    },
    "language_info": {
      "name": "python"
    }
  },
  "cells": [
    {
      "cell_type": "code",
      "metadata": {
        "colab": {
          "base_uri": "https://localhost:8080/"
        },
        "id": "Uo1s_F8k6eIS",
        "outputId": "d34d6ab4-4216-4ca3-91d4-18b0dc232a50"
      },
      "source": [
        "! pip install chembl_webresource_client"
      ],
      "execution_count": null,
      "outputs": [
        {
          "output_type": "stream",
          "name": "stdout",
          "text": [
            "Collecting chembl_webresource_client\n",
            "  Downloading chembl_webresource_client-0.10.7-py3-none-any.whl (55 kB)\n",
            "\u001b[?25l\r\u001b[K     |██████                          | 10 kB 19.7 MB/s eta 0:00:01\r\u001b[K     |███████████▉                    | 20 kB 25.9 MB/s eta 0:00:01\r\u001b[K     |█████████████████▊              | 30 kB 10.9 MB/s eta 0:00:01\r\u001b[K     |███████████████████████▋        | 40 kB 10.0 MB/s eta 0:00:01\r\u001b[K     |█████████████████████████████▌  | 51 kB 5.4 MB/s eta 0:00:01\r\u001b[K     |████████████████████████████████| 55 kB 2.2 MB/s \n",
            "\u001b[?25hRequirement already satisfied: easydict in /usr/local/lib/python3.7/dist-packages (from chembl_webresource_client) (1.9)\n",
            "Requirement already satisfied: urllib3 in /usr/local/lib/python3.7/dist-packages (from chembl_webresource_client) (1.24.3)\n",
            "Requirement already satisfied: requests>=2.18.4 in /usr/local/lib/python3.7/dist-packages (from chembl_webresource_client) (2.23.0)\n",
            "Collecting requests-cache~=0.7.0\n",
            "  Downloading requests_cache-0.7.5-py3-none-any.whl (39 kB)\n",
            "Requirement already satisfied: chardet<4,>=3.0.2 in /usr/local/lib/python3.7/dist-packages (from requests>=2.18.4->chembl_webresource_client) (3.0.4)\n",
            "Requirement already satisfied: certifi>=2017.4.17 in /usr/local/lib/python3.7/dist-packages (from requests>=2.18.4->chembl_webresource_client) (2021.5.30)\n",
            "Requirement already satisfied: idna<3,>=2.5 in /usr/local/lib/python3.7/dist-packages (from requests>=2.18.4->chembl_webresource_client) (2.10)\n",
            "Collecting itsdangerous>=2.0.1\n",
            "  Downloading itsdangerous-2.0.1-py3-none-any.whl (18 kB)\n",
            "Requirement already satisfied: attrs<22.0,>=21.2 in /usr/local/lib/python3.7/dist-packages (from requests-cache~=0.7.0->chembl_webresource_client) (21.2.0)\n",
            "Collecting pyyaml>=5.4\n",
            "  Downloading PyYAML-6.0-cp37-cp37m-manylinux_2_5_x86_64.manylinux1_x86_64.manylinux_2_12_x86_64.manylinux2010_x86_64.whl (596 kB)\n",
            "\u001b[K     |████████████████████████████████| 596 kB 10.7 MB/s \n",
            "\u001b[?25hCollecting url-normalize<2.0,>=1.4\n",
            "  Downloading url_normalize-1.4.3-py2.py3-none-any.whl (6.8 kB)\n",
            "Requirement already satisfied: six in /usr/local/lib/python3.7/dist-packages (from url-normalize<2.0,>=1.4->requests-cache~=0.7.0->chembl_webresource_client) (1.15.0)\n",
            "Installing collected packages: url-normalize, pyyaml, itsdangerous, requests-cache, chembl-webresource-client\n",
            "  Attempting uninstall: pyyaml\n",
            "    Found existing installation: PyYAML 3.13\n",
            "    Uninstalling PyYAML-3.13:\n",
            "      Successfully uninstalled PyYAML-3.13\n",
            "  Attempting uninstall: itsdangerous\n",
            "    Found existing installation: itsdangerous 1.1.0\n",
            "    Uninstalling itsdangerous-1.1.0:\n",
            "      Successfully uninstalled itsdangerous-1.1.0\n",
            "\u001b[31mERROR: pip's dependency resolver does not currently take into account all the packages that are installed. This behaviour is the source of the following dependency conflicts.\n",
            "flask 1.1.4 requires itsdangerous<2.0,>=0.24, but you have itsdangerous 2.0.1 which is incompatible.\u001b[0m\n",
            "Successfully installed chembl-webresource-client-0.10.7 itsdangerous-2.0.1 pyyaml-6.0 requests-cache-0.7.5 url-normalize-1.4.3\n"
          ]
        }
      ]
    },
    {
      "cell_type": "code",
      "metadata": {
        "id": "CEmFIB0r6xrp"
      },
      "source": [
        "from chembl_webresource_client.new_client import new_client\n",
        "import pandas as pd"
      ],
      "execution_count": null,
      "outputs": []
    },
    {
      "cell_type": "markdown",
      "metadata": {
        "id": "CQ4iJ0_f7U0t"
      },
      "source": [
        "### **Select coronavirus for the target**"
      ]
    },
    {
      "cell_type": "code",
      "metadata": {
        "colab": {
          "base_uri": "https://localhost:8080/",
          "height": 361
        },
        "id": "UuYKYL7u7UCL",
        "outputId": "6142ed25-4107-4dbf-ed3e-ee4d2face2d9"
      },
      "source": [
        "target = new_client.target\n",
        "target_query = target.search('coronavirus')\n",
        "targets = pd.DataFrame.from_dict(target_query)\n",
        "targets"
      ],
      "execution_count": null,
      "outputs": [
        {
          "output_type": "execute_result",
          "data": {
            "text/html": [
              "<div>\n",
              "<style scoped>\n",
              "    .dataframe tbody tr th:only-of-type {\n",
              "        vertical-align: middle;\n",
              "    }\n",
              "\n",
              "    .dataframe tbody tr th {\n",
              "        vertical-align: top;\n",
              "    }\n",
              "\n",
              "    .dataframe thead th {\n",
              "        text-align: right;\n",
              "    }\n",
              "</style>\n",
              "<table border=\"1\" class=\"dataframe\">\n",
              "  <thead>\n",
              "    <tr style=\"text-align: right;\">\n",
              "      <th></th>\n",
              "      <th>cross_references</th>\n",
              "      <th>organism</th>\n",
              "      <th>pref_name</th>\n",
              "      <th>score</th>\n",
              "      <th>species_group_flag</th>\n",
              "      <th>target_chembl_id</th>\n",
              "      <th>target_components</th>\n",
              "      <th>target_type</th>\n",
              "      <th>tax_id</th>\n",
              "    </tr>\n",
              "  </thead>\n",
              "  <tbody>\n",
              "    <tr>\n",
              "      <th>0</th>\n",
              "      <td>[]</td>\n",
              "      <td>Coronavirus</td>\n",
              "      <td>Coronavirus</td>\n",
              "      <td>17.0</td>\n",
              "      <td>False</td>\n",
              "      <td>CHEMBL613732</td>\n",
              "      <td>[]</td>\n",
              "      <td>ORGANISM</td>\n",
              "      <td>11119</td>\n",
              "    </tr>\n",
              "    <tr>\n",
              "      <th>1</th>\n",
              "      <td>[]</td>\n",
              "      <td>SARS coronavirus</td>\n",
              "      <td>SARS coronavirus</td>\n",
              "      <td>15.0</td>\n",
              "      <td>False</td>\n",
              "      <td>CHEMBL612575</td>\n",
              "      <td>[]</td>\n",
              "      <td>ORGANISM</td>\n",
              "      <td>227859</td>\n",
              "    </tr>\n",
              "    <tr>\n",
              "      <th>2</th>\n",
              "      <td>[]</td>\n",
              "      <td>Feline coronavirus</td>\n",
              "      <td>Feline coronavirus</td>\n",
              "      <td>15.0</td>\n",
              "      <td>False</td>\n",
              "      <td>CHEMBL612744</td>\n",
              "      <td>[]</td>\n",
              "      <td>ORGANISM</td>\n",
              "      <td>12663</td>\n",
              "    </tr>\n",
              "    <tr>\n",
              "      <th>3</th>\n",
              "      <td>[]</td>\n",
              "      <td>Human coronavirus 229E</td>\n",
              "      <td>Human coronavirus 229E</td>\n",
              "      <td>13.0</td>\n",
              "      <td>False</td>\n",
              "      <td>CHEMBL613837</td>\n",
              "      <td>[]</td>\n",
              "      <td>ORGANISM</td>\n",
              "      <td>11137</td>\n",
              "    </tr>\n",
              "    <tr>\n",
              "      <th>4</th>\n",
              "      <td>[{'xref_id': 'P0C6U8', 'xref_name': None, 'xre...</td>\n",
              "      <td>SARS coronavirus</td>\n",
              "      <td>SARS coronavirus 3C-like proteinase</td>\n",
              "      <td>10.0</td>\n",
              "      <td>False</td>\n",
              "      <td>CHEMBL3927</td>\n",
              "      <td>[{'accession': 'P0C6U8', 'component_descriptio...</td>\n",
              "      <td>SINGLE PROTEIN</td>\n",
              "      <td>227859</td>\n",
              "    </tr>\n",
              "    <tr>\n",
              "      <th>5</th>\n",
              "      <td>[]</td>\n",
              "      <td>Middle East respiratory syndrome-related coron...</td>\n",
              "      <td>Middle East respiratory syndrome-related coron...</td>\n",
              "      <td>9.0</td>\n",
              "      <td>False</td>\n",
              "      <td>CHEMBL4296578</td>\n",
              "      <td>[]</td>\n",
              "      <td>ORGANISM</td>\n",
              "      <td>1335626</td>\n",
              "    </tr>\n",
              "    <tr>\n",
              "      <th>6</th>\n",
              "      <td>[{'xref_id': 'P0C6X7', 'xref_name': None, 'xre...</td>\n",
              "      <td>SARS coronavirus</td>\n",
              "      <td>Replicase polyprotein 1ab</td>\n",
              "      <td>4.0</td>\n",
              "      <td>False</td>\n",
              "      <td>CHEMBL5118</td>\n",
              "      <td>[{'accession': 'P0C6X7', 'component_descriptio...</td>\n",
              "      <td>SINGLE PROTEIN</td>\n",
              "      <td>227859</td>\n",
              "    </tr>\n",
              "    <tr>\n",
              "      <th>7</th>\n",
              "      <td>[]</td>\n",
              "      <td>Severe acute respiratory syndrome coronavirus 2</td>\n",
              "      <td>Replicase polyprotein 1ab</td>\n",
              "      <td>4.0</td>\n",
              "      <td>False</td>\n",
              "      <td>CHEMBL4523582</td>\n",
              "      <td>[{'accession': 'P0DTD1', 'component_descriptio...</td>\n",
              "      <td>SINGLE PROTEIN</td>\n",
              "      <td>2697049</td>\n",
              "    </tr>\n",
              "  </tbody>\n",
              "</table>\n",
              "</div>"
            ],
            "text/plain": [
              "                                    cross_references  ...   tax_id\n",
              "0                                                 []  ...    11119\n",
              "1                                                 []  ...   227859\n",
              "2                                                 []  ...    12663\n",
              "3                                                 []  ...    11137\n",
              "4  [{'xref_id': 'P0C6U8', 'xref_name': None, 'xre...  ...   227859\n",
              "5                                                 []  ...  1335626\n",
              "6  [{'xref_id': 'P0C6X7', 'xref_name': None, 'xre...  ...   227859\n",
              "7                                                 []  ...  2697049\n",
              "\n",
              "[8 rows x 9 columns]"
            ]
          },
          "metadata": {},
          "execution_count": 4
        }
      ]
    },
    {
      "cell_type": "code",
      "metadata": {
        "id": "1UbFN7ed5H2f"
      },
      "source": [
        ""
      ],
      "execution_count": null,
      "outputs": []
    },
    {
      "cell_type": "code",
      "metadata": {
        "id": "aoq93dyh7wYD"
      },
      "source": [
        "selected_target = targets.target_chembl_id[4]\n",
        "activity = new_client.activity\n",
        "all_res = activity.filter(target_chembl_id=selected_target)\n",
        "res = activity.filter(target_chembl_id=selected_target).filter(standard_type='IC50')\n",
        "df = pd.DataFrame.from_dict(res)\n",
        "df_all_res = pd.DataFrame.from_dict(all_res)"
      ],
      "execution_count": null,
      "outputs": []
    },
    {
      "cell_type": "code",
      "metadata": {
        "colab": {
          "base_uri": "https://localhost:8080/",
          "height": 168
        },
        "id": "SLy1lwJi5JSK",
        "outputId": "c94d3bce-dd66-46a5-a2f4-95c220a96360"
      },
      "source": [
        "df['standard_type'].unique()"
      ],
      "execution_count": null,
      "outputs": [
        {
          "output_type": "error",
          "ename": "NameError",
          "evalue": "ignored",
          "traceback": [
            "\u001b[0;31m---------------------------------------------------------------------------\u001b[0m",
            "\u001b[0;31mNameError\u001b[0m                                 Traceback (most recent call last)",
            "\u001b[0;32m<ipython-input-1-779dec3dffda>\u001b[0m in \u001b[0;36m<module>\u001b[0;34m()\u001b[0m\n\u001b[0;32m----> 1\u001b[0;31m \u001b[0mdf\u001b[0m\u001b[0;34m[\u001b[0m\u001b[0;34m'standard_type'\u001b[0m\u001b[0;34m]\u001b[0m\u001b[0;34m.\u001b[0m\u001b[0munique\u001b[0m\u001b[0;34m(\u001b[0m\u001b[0;34m)\u001b[0m\u001b[0;34m\u001b[0m\u001b[0;34m\u001b[0m\u001b[0m\n\u001b[0m",
            "\u001b[0;31mNameError\u001b[0m: name 'df' is not defined"
          ]
        }
      ]
    },
    {
      "cell_type": "code",
      "metadata": {
        "colab": {
          "base_uri": "https://localhost:8080/"
        },
        "id": "bs-duD5r8ISf",
        "outputId": "afdef8ff-6e17-40ca-9c23-1c0edeba16e1"
      },
      "source": [
        "df_all_res.standard_type.unique()\n",
        "df.shape"
      ],
      "execution_count": null,
      "outputs": [
        {
          "output_type": "execute_result",
          "data": {
            "text/plain": [
              "(133, 45)"
            ]
          },
          "metadata": {},
          "execution_count": 26
        }
      ]
    },
    {
      "cell_type": "markdown",
      "metadata": {
        "id": "awOBpdBB9XhH"
      },
      "source": [
        "###**Check Missing value**\n"
      ]
    },
    {
      "cell_type": "code",
      "metadata": {
        "colab": {
          "base_uri": "https://localhost:8080/"
        },
        "id": "3eJzCqRd9htY",
        "outputId": "fd884a36-12cb-432c-b24d-68e602b8720f"
      },
      "source": [
        "df2 = df[df.standard_value.notna()]\n",
        "df2.shape"
      ],
      "execution_count": null,
      "outputs": [
        {
          "output_type": "execute_result",
          "data": {
            "text/plain": [
              "(133, 45)"
            ]
          },
          "metadata": {},
          "execution_count": 27
        }
      ]
    },
    {
      "cell_type": "markdown",
      "metadata": {
        "id": "xCUyI0FB98Pm"
      },
      "source": [
        "###**Add bioactivity class**\n"
      ]
    },
    {
      "cell_type": "code",
      "metadata": {
        "id": "Iukmg5hX9xM1"
      },
      "source": [
        "bioactivity_class = []\n",
        "for i in df2.standard_value:\n",
        "  if float(i) >= 10000:\n",
        "    bioactivity_class.append(\"inactive\")\n",
        "  elif float(i) <= 1000:\n",
        "    bioactivity_class.append(\"active\")\n",
        "  else:\n",
        "    bioactivity_class.append(\"intermediate\")"
      ],
      "execution_count": null,
      "outputs": []
    },
    {
      "cell_type": "code",
      "metadata": {
        "colab": {
          "base_uri": "https://localhost:8080/",
          "height": 521
        },
        "id": "-aE9BEt3-Bcx",
        "outputId": "eabd4ab3-b9a5-46f7-e31a-d180a696de4b"
      },
      "source": [
        "selection = ['molecule_chembl_id', 'canonical_smiles', 'standard_value']\n",
        "df3 = df2[selection]\n",
        "df3['bioactivity_class'] = bioactivity_class\n",
        "df3"
      ],
      "execution_count": null,
      "outputs": [
        {
          "output_type": "stream",
          "name": "stderr",
          "text": [
            "/usr/local/lib/python3.7/dist-packages/ipykernel_launcher.py:3: SettingWithCopyWarning: \n",
            "A value is trying to be set on a copy of a slice from a DataFrame.\n",
            "Try using .loc[row_indexer,col_indexer] = value instead\n",
            "\n",
            "See the caveats in the documentation: https://pandas.pydata.org/pandas-docs/stable/user_guide/indexing.html#returning-a-view-versus-a-copy\n",
            "  This is separate from the ipykernel package so we can avoid doing imports until\n"
          ]
        },
        {
          "output_type": "execute_result",
          "data": {
            "text/html": [
              "<div>\n",
              "<style scoped>\n",
              "    .dataframe tbody tr th:only-of-type {\n",
              "        vertical-align: middle;\n",
              "    }\n",
              "\n",
              "    .dataframe tbody tr th {\n",
              "        vertical-align: top;\n",
              "    }\n",
              "\n",
              "    .dataframe thead th {\n",
              "        text-align: right;\n",
              "    }\n",
              "</style>\n",
              "<table border=\"1\" class=\"dataframe\">\n",
              "  <thead>\n",
              "    <tr style=\"text-align: right;\">\n",
              "      <th></th>\n",
              "      <th>molecule_chembl_id</th>\n",
              "      <th>canonical_smiles</th>\n",
              "      <th>standard_value</th>\n",
              "      <th>bioactivity_class</th>\n",
              "    </tr>\n",
              "  </thead>\n",
              "  <tbody>\n",
              "    <tr>\n",
              "      <th>0</th>\n",
              "      <td>CHEMBL187579</td>\n",
              "      <td>Cc1noc(C)c1CN1C(=O)C(=O)c2cc(C#N)ccc21</td>\n",
              "      <td>7200.0</td>\n",
              "      <td>intermediate</td>\n",
              "    </tr>\n",
              "    <tr>\n",
              "      <th>1</th>\n",
              "      <td>CHEMBL188487</td>\n",
              "      <td>O=C1C(=O)N(Cc2ccc(F)cc2Cl)c2ccc(I)cc21</td>\n",
              "      <td>9400.0</td>\n",
              "      <td>intermediate</td>\n",
              "    </tr>\n",
              "    <tr>\n",
              "      <th>2</th>\n",
              "      <td>CHEMBL185698</td>\n",
              "      <td>O=C1C(=O)N(CC2COc3ccccc3O2)c2ccc(I)cc21</td>\n",
              "      <td>13500.0</td>\n",
              "      <td>inactive</td>\n",
              "    </tr>\n",
              "    <tr>\n",
              "      <th>3</th>\n",
              "      <td>CHEMBL426082</td>\n",
              "      <td>O=C1C(=O)N(Cc2cc3ccccc3s2)c2ccccc21</td>\n",
              "      <td>13110.0</td>\n",
              "      <td>inactive</td>\n",
              "    </tr>\n",
              "    <tr>\n",
              "      <th>4</th>\n",
              "      <td>CHEMBL187717</td>\n",
              "      <td>O=C1C(=O)N(Cc2cc3ccccc3s2)c2c1cccc2[N+](=O)[O-]</td>\n",
              "      <td>2000.0</td>\n",
              "      <td>intermediate</td>\n",
              "    </tr>\n",
              "    <tr>\n",
              "      <th>...</th>\n",
              "      <td>...</td>\n",
              "      <td>...</td>\n",
              "      <td>...</td>\n",
              "      <td>...</td>\n",
              "    </tr>\n",
              "    <tr>\n",
              "      <th>128</th>\n",
              "      <td>CHEMBL2146517</td>\n",
              "      <td>COC(=O)[C@@]1(C)CCCc2c1ccc1c2C(=O)C(=O)c2c(C)c...</td>\n",
              "      <td>10600.0</td>\n",
              "      <td>inactive</td>\n",
              "    </tr>\n",
              "    <tr>\n",
              "      <th>129</th>\n",
              "      <td>CHEMBL187460</td>\n",
              "      <td>C[C@H]1COC2=C1C(=O)C(=O)c1c2ccc2c1CCCC2(C)C</td>\n",
              "      <td>10100.0</td>\n",
              "      <td>inactive</td>\n",
              "    </tr>\n",
              "    <tr>\n",
              "      <th>130</th>\n",
              "      <td>CHEMBL363535</td>\n",
              "      <td>Cc1coc2c1C(=O)C(=O)c1c-2ccc2c(C)cccc12</td>\n",
              "      <td>11500.0</td>\n",
              "      <td>inactive</td>\n",
              "    </tr>\n",
              "    <tr>\n",
              "      <th>131</th>\n",
              "      <td>CHEMBL227075</td>\n",
              "      <td>Cc1cccc2c3c(ccc12)C1=C(C(=O)C3=O)[C@@H](C)CO1</td>\n",
              "      <td>10700.0</td>\n",
              "      <td>inactive</td>\n",
              "    </tr>\n",
              "    <tr>\n",
              "      <th>132</th>\n",
              "      <td>CHEMBL45830</td>\n",
              "      <td>CC(C)C1=Cc2ccc3c(c2C(=O)C1=O)CCCC3(C)C</td>\n",
              "      <td>78900.0</td>\n",
              "      <td>inactive</td>\n",
              "    </tr>\n",
              "  </tbody>\n",
              "</table>\n",
              "<p>133 rows × 4 columns</p>\n",
              "</div>"
            ],
            "text/plain": [
              "    molecule_chembl_id  ... bioactivity_class\n",
              "0         CHEMBL187579  ...      intermediate\n",
              "1         CHEMBL188487  ...      intermediate\n",
              "2         CHEMBL185698  ...          inactive\n",
              "3         CHEMBL426082  ...          inactive\n",
              "4         CHEMBL187717  ...      intermediate\n",
              "..                 ...  ...               ...\n",
              "128      CHEMBL2146517  ...          inactive\n",
              "129       CHEMBL187460  ...          inactive\n",
              "130       CHEMBL363535  ...          inactive\n",
              "131       CHEMBL227075  ...          inactive\n",
              "132        CHEMBL45830  ...          inactive\n",
              "\n",
              "[133 rows x 4 columns]"
            ]
          },
          "metadata": {},
          "execution_count": 38
        }
      ]
    },
    {
      "cell_type": "markdown",
      "metadata": {
        "id": "LAlNx3JZBGqu"
      },
      "source": [
        "###**Save Data to google drive**"
      ]
    },
    {
      "cell_type": "code",
      "metadata": {
        "id": "SIx2omHFBDFG"
      },
      "source": [
        "df3.to_csv('bioactivity_data.csv', index=False)"
      ],
      "execution_count": null,
      "outputs": []
    },
    {
      "cell_type": "code",
      "metadata": {
        "colab": {
          "base_uri": "https://localhost:8080/"
        },
        "id": "Dt0J-sr0Ba2W",
        "outputId": "a9550b09-baa2-4144-d7c9-665a9e841567"
      },
      "source": [
        "from google.colab import drive\n",
        "drive.mount('/content/gdrive/', force_remount=True)"
      ],
      "execution_count": null,
      "outputs": [
        {
          "output_type": "stream",
          "name": "stdout",
          "text": [
            "Mounted at /content/gdrive/\n"
          ]
        }
      ]
    },
    {
      "cell_type": "code",
      "metadata": {
        "colab": {
          "base_uri": "https://localhost:8080/"
        },
        "id": "hHAzs9tDBusM",
        "outputId": "5994d82c-c0f8-4a53-871e-b9f5f0d4bd59"
      },
      "source": [
        "! ls"
      ],
      "execution_count": null,
      "outputs": [
        {
          "output_type": "stream",
          "name": "stdout",
          "text": [
            "bioactivity_data.csv  gdrive  sample_data\n"
          ]
        }
      ]
    },
    {
      "cell_type": "code",
      "metadata": {
        "id": "FXo2ewlQBsSv"
      },
      "source": [
        "! cp bioactivity_data.csv \"/content/gdrive/My Drive/Colab Notebooks/data\""
      ],
      "execution_count": null,
      "outputs": []
    }
  ]
}